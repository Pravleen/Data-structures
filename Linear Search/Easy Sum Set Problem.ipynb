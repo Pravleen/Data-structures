{
 "cells": [
  {
   "cell_type": "code",
   "execution_count": 16,
   "metadata": {},
   "outputs": [
    {
     "name": "stdout",
     "output_type": "stream",
     "text": [
      "2\n",
      "1 3\n",
      "2\n",
      "1 4\n",
      "-2 0 1 3 "
     ]
    }
   ],
   "source": [
    "n=int(input())\n",
    "s=input().split(\" \")\n",
    "\n",
    "m=int(input())\n",
    "s1=input().split(\" \")\n",
    "s2=[]\n",
    "for j in range(0,m):\n",
    "    for l in range(0,n):\n",
    "        s2.append(int(s1[j])-int(s[l]))\n",
    "s2=sorted(set(s2))\n",
    "s2=list(s2)\n",
    "for i in range(0,len(s2)):\n",
    "    print(s2[i],end=\" \")\n"
   ]
  },
  {
   "cell_type": "code",
   "execution_count": null,
   "metadata": {},
   "outputs": [],
   "source": []
  }
 ],
 "metadata": {
  "kernelspec": {
   "display_name": "Python 3",
   "language": "python",
   "name": "python3"
  },
  "language_info": {
   "codemirror_mode": {
    "name": "ipython",
    "version": 3
   },
   "file_extension": ".py",
   "mimetype": "text/x-python",
   "name": "python",
   "nbconvert_exporter": "python",
   "pygments_lexer": "ipython3",
   "version": "3.8.3"
  }
 },
 "nbformat": 4,
 "nbformat_minor": 4
}
